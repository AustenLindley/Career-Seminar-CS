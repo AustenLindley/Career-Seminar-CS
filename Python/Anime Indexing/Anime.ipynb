{
 "cells": [
  {
   "cell_type": "markdown",
   "metadata": {},
   "source": [
    "Importing"
   ]
  },
  {
   "cell_type": "code",
   "execution_count": 81,
   "metadata": {},
   "outputs": [],
   "source": [
    "import wikipediaapi\n",
    "import requests\n",
    "from bs4 import BeautifulSoup\n",
    "import pandas as pd\n",
    "\n",
    "\n",
    "file_name = 'Anime.xlsx'\n",
    "data = pd.read_excel(file_name)"
   ]
  },
  {
   "cell_type": "markdown",
   "metadata": {},
   "source": [
    "getting Anime Description"
   ]
  },
  {
   "cell_type": "code",
   "execution_count": 82,
   "metadata": {},
   "outputs": [],
   "source": [
    "#Accessing WIKI\n",
    "def get_User_Agent():\n",
    "    user_agent = 'MyAnimeBot/1.0 (https://example.com/bot)'\n",
    "    wiki_wiki = wikipediaapi.Wikipedia('en', headers={'User-Agent': user_agent})\n",
    "    session = requests.Session()\n",
    "    session.headers.update({'User-Agent': user_agent})\n",
    "    wiki_wiki.session = session\n",
    "    return wiki_wiki\n",
    "\n",
    "\n",
    "#Getting Disc.\n",
    "def get_anime_description(anime_name):\n",
    "    id =+ 1\n",
    "    wiki_wiki = get_User_Agent()\n",
    "    page = wiki_wiki.page(anime_name.replace(' ', '+'))\n",
    "    \n",
    "    if page.exists():\n",
    "        summary = page.summary\n",
    "        dataa = {'ID': [id], 'Name': [anime_name], 'Description': [summary]}\n",
    "        write_to_file(dataa)\n",
    "        \n",
    "        return summary\n",
    "    else:\n",
    "        return f\"{anime_name} not found on Wikipedia.\"\n",
    "    \n",
    "\n",
    "#Writting to File\n",
    "def write_to_file( dataa):    \n",
    "    new_df = pd.DataFrame(dataa)\n",
    "    \n",
    "    try:\n",
    "        existing_df = pd.read_excel(file_name)\n",
    "        df = pd.concat([existing_df, new_df], ignore_index=True)\n",
    "        df.to_excel(file_name, index=False)\n",
    "    except FileNotFoundError:\n",
    "        new_df.to_excel(file_name, index=False)\n",
    "    \n",
    "   "
   ]
  },
  {
   "cell_type": "markdown",
   "metadata": {},
   "source": [
    "Average Price From Ebay"
   ]
  },
  {
   "cell_type": "code",
   "execution_count": 83,
   "metadata": {},
   "outputs": [],
   "source": [
    "def get_average_price_from_ebay(anime_name):\n",
    "    \n",
    "    DVD_soup = searchDVD(anime_name)\n",
    "    Manga_soup = searchManga(anime_name)\n",
    "    DVD_prices = []\n",
    "    Manga_prices = []\n",
    "    DVD_average_price = None\n",
    "    Manga_average_price = None\n",
    "\n",
    "    for item in DVD_soup.select('.s-item__price'):\n",
    "        price_text = item.get_text()\n",
    "        price_text = price_text.replace('$', '').replace(',', '')\n",
    "        try:\n",
    "            price = float(price_text)\n",
    "            DVD_prices.append(price)\n",
    "        except ValueError:\n",
    "            continue\n",
    "    for item in Manga_soup.select('.s-item__price'):\n",
    "        price_text = item.get_text()\n",
    "        price_text = price_text.replace('$', '').replace(',', '')\n",
    "        try:\n",
    "            price = float(price_text)\n",
    "            Manga_prices.append(price)\n",
    "        except ValueError:\n",
    "            continue        \n",
    "\n",
    "        DVD_average_price = sum(DVD_prices) / len(DVD_prices)\n",
    "        Manga_average_price = sum(Manga_prices) / len(Manga_prices)\n",
    "    \n",
    "    return f\"DVD Price: ${DVD_average_price}, Manga Price : ${Manga_average_price}\"\n",
    "    \n",
    "\n",
    "def searchDVD(anime_name):\n",
    "    anime_name = anime_name+'Dvd'\n",
    "    search_url_anime = f\"https://www.ebay.com/sch/i.html?_nkw={anime_name.replace(' ', '+')}\"\n",
    "    response = requests.get(search_url_anime)\n",
    "    soup = BeautifulSoup(response.text, 'html.parser')\n",
    "    return soup\n",
    "\n",
    "def searchManga(anime_name):\n",
    "    anime_name = anime_name+'Manga'\n",
    "    search_url_anime = f\"https://www.ebay.com/sch/i.html?_nkw={anime_name.replace(' ', '+')}\"\n",
    "    response = requests.get(search_url_anime)\n",
    "    soup = BeautifulSoup(response.text, 'html.parser')\n",
    "    return soup\n",
    "\n",
    "\n",
    "#def write_to_file( dataa):\n",
    "    #dataaa = dataa                               "
   ]
  },
  {
   "cell_type": "markdown",
   "metadata": {},
   "source": [
    "Main"
   ]
  },
  {
   "cell_type": "code",
   "execution_count": 84,
   "metadata": {},
   "outputs": [],
   "source": [
    "def main():\n",
    "    anime_name = input(\"Enter the name of the anime: \")\n",
    "    description = get_anime_description(anime_name)\n",
    "    average_price = get_average_price_from_ebay(anime_name)\n",
    "    \n",
    "    print(f\"\\nDescription of {anime_name} from Wikipedia:\\n{description}\")\n",
    "    print(f\"{average_price}\")"
   ]
  },
  {
   "cell_type": "code",
   "execution_count": 85,
   "metadata": {},
   "outputs": [
    {
     "name": "stdout",
     "output_type": "stream",
     "text": [
      "\n",
      "Description of Etotama from Wikipedia:\n",
      "Etotama (えとたま, \"Chinese Zodiac Spirits\") is a Japanese anime television series produced by Encourage Films and Shirogumi, which aired from April 9 to June 25, 2015. A manga adaptation began serialization from December 2013 in ASCII Media Works's shōnen manga magazine Dengeki Daioh. A 30-minute original net animation (ONA) episode titled Etotama ~Nyan-Kyaku Banrai~ premiered on May 25, 2021.\n",
      "\n",
      "Average price of Etotama on eBay: $(20.0, 51.434444444444445)\n"
     ]
    }
   ],
   "source": [
    "if __name__ == \"__main__\":\n",
    "    main()"
   ]
  }
 ],
 "metadata": {
  "kernelspec": {
   "display_name": "Python 3",
   "language": "python",
   "name": "python3"
  },
  "language_info": {
   "codemirror_mode": {
    "name": "ipython",
    "version": 3
   },
   "file_extension": ".py",
   "mimetype": "text/x-python",
   "name": "python",
   "nbconvert_exporter": "python",
   "pygments_lexer": "ipython3",
   "version": "3.11.9"
  }
 },
 "nbformat": 4,
 "nbformat_minor": 2
}
