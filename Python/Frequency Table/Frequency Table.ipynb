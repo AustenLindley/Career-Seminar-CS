{
 "cells": [
  {
   "cell_type": "markdown",
   "id": "63cbc0ea-7cd4-4438-bb32-5b9426d83e09",
   "metadata": {},
   "source": [
    "CS417 Exam 1 Problem Two\n",
    "---\n",
    "\n"
   ]
  },
  {
   "cell_type": "code",
   "execution_count": 8,
   "id": "366de7f5-8efd-4964-afb2-12734c2142e2",
   "metadata": {},
   "outputs": [
    {
     "name": "stdout",
     "output_type": "stream",
     "text": [
      "  Item  Frequency\n",
      "0   hi          1\n",
      "1    f          2\n",
      "2    g          1\n",
      "3    s          1\n",
      "4    2          2\n",
      "5    3          3\n",
      "6    4          4\n",
      "7    5          5\n"
     ]
    }
   ],
   "source": [
    "import pandas as pd\n",
    "\n",
    "class FrequencyTable: \n",
    "    def __init__(self, init_Value_List=\"\"):\n",
    "        \n",
    "        self.frequency_Table = {}\n",
    "        self.main_List = init_Value_List\n",
    "\n",
    "    def get_Frequency_Data(self):\n",
    "\n",
    "        for item in self.main_List:\n",
    "            if item in self.frequency_Table:\n",
    "                self.frequency_Table[item] += 1\n",
    "            else:\n",
    "                self.frequency_Table[item] = 1\n",
    "    \n",
    "    def print_Frequency_Data(self):\n",
    "        display = pd.DataFrame(list(self.frequency_Table.items()), \n",
    "                        columns=['Item', 'Frequency'])\n",
    "        print(display)\n",
    "\n",
    "test_list = ['hi','f', 'f','g','s', 2, 2, 3, 3, 3, 4, 4, 4, 4, 5, 5, 5, 5, 5]\n",
    "frequenct_test = FrequencyTable(test_list)\n",
    "frequenct_test.get_Frequency_Data()\n",
    "frequenct_test.print_Frequency_Data()\n"
   ]
  }
 ],
 "metadata": {
  "kernelspec": {
   "display_name": "Python 3.10.6 64-bit",
   "language": "python",
   "name": "python3"
  },
  "language_info": {
   "codemirror_mode": {
    "name": "ipython",
    "version": 3
   },
   "file_extension": ".py",
   "mimetype": "text/x-python",
   "name": "python",
   "nbconvert_exporter": "python",
   "pygments_lexer": "ipython3",
   "version": "3.11.9"
  },
  "vscode": {
   "interpreter": {
    "hash": "b0fa6594d8f4cbf19f97940f81e996739fb7646882a419484c72d19e05852a7e"
   }
  }
 },
 "nbformat": 4,
 "nbformat_minor": 5
}
